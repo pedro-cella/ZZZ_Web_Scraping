{
 "cells": [
  {
   "cell_type": "code",
   "execution_count": 1,
   "id": "c67e085e",
   "metadata": {},
   "outputs": [],
   "source": [
    "# Passo 1 - Importando bibliotecas\n",
    "import requests\n",
    "from bs4 import BeautifulSoup\n",
    "import pandas as pd"
   ]
  },
  {
   "cell_type": "code",
   "execution_count": 2,
   "id": "4b093105",
   "metadata": {},
   "outputs": [],
   "source": [
    "# Passo 2 - Realizar uma requisição ao site\n",
    "url = 'https://game8.co/games/Zenless-Zone-Zero/archives/435684#hl_1'\n",
    "response = requests.get(url)\n",
    "html_content = response.content"
   ]
  },
  {
   "cell_type": "code",
   "execution_count": 3,
   "id": "2bed47bc",
   "metadata": {},
   "outputs": [],
   "source": [
    "# Passo 3 - Realizar o parser do HTML\n",
    "soup = BeautifulSoup(html_content, 'html.parser')\n",
    "\n",
    "# Isso transforma o HTML bruto em um Objeto BeatifulSoup capaz de realizar o find e o find_all"
   ]
  },
  {
   "cell_type": "code",
   "execution_count": 27,
   "id": "0a844537",
   "metadata": {},
   "outputs": [
    {
     "name": "stdout",
     "output_type": "stream",
     "text": [
      "[['Jane', 'Physical', 'Anomaly', 'Slash', 'Criminal Investigation Team', 'Tier 0', 'S Rank'], ['Qingyi', 'Electric', 'Stun', 'Strike', 'Criminal Investigation Team', 'Tier 0', 'S Rank'], ['Zhu Yuan', 'Ether', 'Attack', 'Pierce', 'Criminal Investigation Team', 'Tier 0', 'S Rank'], ['Ellen', 'Ice', 'Attack', 'Slash', 'Victoria Housekeeping', 'Tier 0', 'S Rank'], ['Grace', 'Electric', 'Anomaly', 'Pierce', 'Belobog Heavy Industries', 'Tier 1', 'S Rank'], ['Soldier 11', 'Fire', 'Attack', 'Slash', 'Obol Squad', 'Tier 2', 'S Rank'], ['Nekomata', 'Physical', 'Attack', 'Slash', 'Cunning Hares', 'Tier 2', 'S Rank'], ['Lycaon', 'Ice', 'Stun', 'Strike', 'Victoria Housekeeping', 'Tier 0', 'S Rank'], ['Koleda', 'Fire', 'Stun', 'Strike', 'Belobog Heavy Industries', 'Tier 1', 'S Rank'], ['Rina', 'Electric', 'Support', 'Strike', 'Victoria Housekeeping', 'Tier 1', 'S Rank'], ['Seth', 'Electric', 'Defense', 'Slash', 'Criminal Investigation Team', 'Tier 1', 'A Rank'], ['Piper', 'Physical', 'Anomaly', 'Slash', 'Sons of Calydon', 'Tier 2', 'A Rank'], ['Lucy', 'Fire', 'Support', 'Strike', 'Sons of Calydon', 'Tier 1', 'A Rank'], ['Corin', 'Physical', 'Attack', 'Slash', 'Victoria Housekeeping', 'Tier 3', 'A Rank'], ['Anton', 'Electric', 'Attack', 'Pierce', 'Belobog Heavy Industries', 'Tier 2', 'A Rank'], ['Ben', 'Fire', 'Defense', 'Strike', 'Belobog Heavy Industries', 'Tier 3', 'A Rank'], ['Soukaku', 'Ice', 'Support', 'Slash', 'Section 6', 'Tier 0', 'A Rank'], ['Billy', 'Physical', 'Attack', 'Pierce', 'Cunning Hares', 'Tier 4', 'A Rank'], ['Nicole', 'Ether', 'Support', 'Strike', 'Cunning Hares', 'Tier 1', 'A Rank'], ['Anby', 'Electric', 'Stun', 'Slash', 'Cunning Hares', 'Tier 2', 'A Rank']]\n"
     ]
    }
   ],
   "source": [
    "# Passo 4 - Encontrar a tabela e extrair os dados\n",
    "table = soup.find('table', {'class':'a-table a-table a-table table--fixed flexible-cell'})\n",
    "rows = table.find_all('tr')\n",
    "\n",
    "# Extrair o cabeçalho da tabela\n",
    "header = [th.text.strip() for th in rows[0].find_all('th')]\n",
    "\n",
    "data = []\n",
    "for row in rows:\n",
    "    cols = row.find_all('td')\n",
    "    cols = [col.text.strip() for col in cols]\n",
    "    data.append(cols)\n",
    "\n",
    "# Assumindo que a primeira linha é o cabeçalho\n",
    "characters = data[1:]\n",
    "print(characters)"
   ]
  },
  {
   "cell_type": "code",
   "execution_count": 28,
   "id": "3b2e0af9",
   "metadata": {},
   "outputs": [
    {
     "name": "stdout",
     "output_type": "stream",
     "text": [
      "[['Jane Doe', 'Physical', 'Anomaly', 'Slash', 'Criminal Investigation Team', 'Tier 0', 'S Rank'], ['Qingyi', 'Electric', 'Stun', 'Strike', 'Criminal Investigation Team', 'Tier 0', 'S Rank'], ['Zhu Yuan', 'Ether', 'Attack', 'Pierce', 'Criminal Investigation Team', 'Tier 0', 'S Rank'], ['Ellen', 'Ice', 'Attack', 'Slash', 'Victoria Housekeeping', 'Tier 0', 'S Rank'], ['Grace', 'Electric', 'Anomaly', 'Pierce', 'Belobog Heavy Industries', 'Tier 1', 'S Rank'], ['Soldier 11', 'Fire', 'Attack', 'Slash', 'Obol Squad', 'Tier 2', 'S Rank'], ['Nekomata', 'Physical', 'Attack', 'Slash', 'Cunning Hares', 'Tier 2', 'S Rank'], ['Lycaon', 'Ice', 'Stun', 'Strike', 'Victoria Housekeeping', 'Tier 0', 'S Rank'], ['Koleda', 'Fire', 'Stun', 'Strike', 'Belobog Heavy Industries', 'Tier 1', 'S Rank'], ['Rina', 'Electric', 'Support', 'Strike', 'Victoria Housekeeping', 'Tier 1', 'S Rank'], ['Seth', 'Electric', 'Defense', 'Slash', 'Criminal Investigation Team', 'Tier 1', 'A Rank'], ['Piper', 'Physical', 'Anomaly', 'Slash', 'Sons of Calydon', 'Tier 2', 'A Rank'], ['Lucy', 'Fire', 'Support', 'Strike', 'Sons of Calydon', 'Tier 1', 'A Rank'], ['Corin', 'Physical', 'Attack', 'Slash', 'Victoria Housekeeping', 'Tier 3', 'A Rank'], ['Anton', 'Electric', 'Attack', 'Pierce', 'Belobog Heavy Industries', 'Tier 2', 'A Rank'], ['Ben', 'Fire', 'Defense', 'Strike', 'Belobog Heavy Industries', 'Tier 3', 'A Rank'], ['Soukaku', 'Ice', 'Support', 'Slash', 'Section 6', 'Tier 0', 'A Rank'], ['Billy', 'Physical', 'Attack', 'Pierce', 'Cunning Hares', 'Tier 4', 'A Rank'], ['Nicole', 'Ether', 'Support', 'Strike', 'Cunning Hares', 'Tier 1', 'A Rank'], ['Anby', 'Electric', 'Stun', 'Slash', 'Cunning Hares', 'Tier 2', 'A Rank']]\n"
     ]
    }
   ],
   "source": [
    "# Passo 4.5 - Realizar uma alteração no personagem Jane Doe\n",
    "\n",
    "# O motivo dessa alteração é um problema no resultado final, visto que em um site está Jane e no outro Jane Doe\n",
    "\n",
    "characters[0][0] = \"Jane Doe\"\n",
    "\n",
    "print(characters)"
   ]
  },
  {
   "cell_type": "code",
   "execution_count": 29,
   "id": "593894f6",
   "metadata": {},
   "outputs": [
    {
     "name": "stdout",
     "output_type": "stream",
     "text": [
      "['agent', 'attribute', 'specialty', 'type', 'rarity']\n",
      "[['Jane Doe', 'Physical', 'Anomaly', 'Slash', 'S Rank'], ['Qingyi', 'Electric', 'Stun', 'Strike', 'S Rank'], ['Zhu Yuan', 'Ether', 'Attack', 'Pierce', 'S Rank'], ['Ellen', 'Ice', 'Attack', 'Slash', 'S Rank'], ['Grace', 'Electric', 'Anomaly', 'Pierce', 'S Rank'], ['Soldier 11', 'Fire', 'Attack', 'Slash', 'S Rank'], ['Nekomata', 'Physical', 'Attack', 'Slash', 'S Rank'], ['Lycaon', 'Ice', 'Stun', 'Strike', 'S Rank'], ['Koleda', 'Fire', 'Stun', 'Strike', 'S Rank'], ['Rina', 'Electric', 'Support', 'Strike', 'S Rank'], ['Seth', 'Electric', 'Defense', 'Slash', 'A Rank'], ['Piper', 'Physical', 'Anomaly', 'Slash', 'A Rank'], ['Lucy', 'Fire', 'Support', 'Strike', 'A Rank'], ['Corin', 'Physical', 'Attack', 'Slash', 'A Rank'], ['Anton', 'Electric', 'Attack', 'Pierce', 'A Rank'], ['Ben', 'Fire', 'Defense', 'Strike', 'A Rank'], ['Soukaku', 'Ice', 'Support', 'Slash', 'A Rank'], ['Billy', 'Physical', 'Attack', 'Pierce', 'A Rank'], ['Nicole', 'Ether', 'Support', 'Strike', 'A Rank'], ['Anby', 'Electric', 'Stun', 'Slash', 'A Rank']]\n"
     ]
    }
   ],
   "source": [
    "# Passo 5 - Filtrar para obter os dados que importam de cada personagem\n",
    "filtered_characters = []\n",
    "filtered_headers = []\n",
    "for character in characters:\n",
    "    # Remover o terceiro elemento usando slicing\n",
    "    filtered_character = character[:4] + character[6:]\n",
    "    filtered_characters.append(filtered_character)\n",
    "    \n",
    "# Remove elementos do header usando slicing\n",
    "filtered_header = header[:4] + header[6:]\n",
    "filtered_headers.append(filtered_header)\n",
    "\n",
    "# Remove a lista de strings do header de uma lista\n",
    "filtered_headers = filtered_headers.pop()\n",
    "filtered_headers = [x.lower() for x in filtered_headers]\n",
    "\n",
    "print(filtered_headers)\n",
    "print(filtered_characters)"
   ]
  },
  {
   "cell_type": "code",
   "execution_count": 30,
   "id": "394fa9a2",
   "metadata": {},
   "outputs": [
    {
     "name": "stdout",
     "output_type": "stream",
     "text": [
      "Index(['agent', 'attribute', 'specialty', 'type', 'rarity'], dtype='object')\n",
      "         agent attribute specialty    type  rarity\n",
      "0     Jane Doe  Physical   Anomaly   Slash  S Rank\n",
      "1       Qingyi  Electric      Stun  Strike  S Rank\n",
      "2     Zhu Yuan     Ether    Attack  Pierce  S Rank\n",
      "3        Ellen       Ice    Attack   Slash  S Rank\n",
      "4        Grace  Electric   Anomaly  Pierce  S Rank\n",
      "5   Soldier 11      Fire    Attack   Slash  S Rank\n",
      "6     Nekomata  Physical    Attack   Slash  S Rank\n",
      "7       Lycaon       Ice      Stun  Strike  S Rank\n",
      "8       Koleda      Fire      Stun  Strike  S Rank\n",
      "9         Rina  Electric   Support  Strike  S Rank\n",
      "10        Seth  Electric   Defense   Slash  A Rank\n",
      "11       Piper  Physical   Anomaly   Slash  A Rank\n",
      "12        Lucy      Fire   Support  Strike  A Rank\n",
      "13       Corin  Physical    Attack   Slash  A Rank\n",
      "14       Anton  Electric    Attack  Pierce  A Rank\n",
      "15         Ben      Fire   Defense  Strike  A Rank\n",
      "16     Soukaku       Ice   Support   Slash  A Rank\n",
      "17       Billy  Physical    Attack  Pierce  A Rank\n",
      "18      Nicole     Ether   Support  Strike  A Rank\n",
      "19        Anby  Electric      Stun   Slash  A Rank\n"
     ]
    }
   ],
   "source": [
    "# Passo 6 - Criar um DataFrame com os dados\n",
    "df = pd.DataFrame(filtered_characters, columns=filtered_headers)\n",
    "print(df.columns)\n",
    "print(df)"
   ]
  },
  {
   "cell_type": "code",
   "execution_count": 8,
   "id": "155ceeb0",
   "metadata": {},
   "outputs": [],
   "source": [
    "# Passo 7 - Transformar DataFrame em CSV\n",
    "df.to_csv('zzz_characters_data.csv', index=False)"
   ]
  },
  {
   "cell_type": "code",
   "execution_count": 31,
   "id": "f73a04a1",
   "metadata": {},
   "outputs": [
    {
     "name": "stdout",
     "output_type": "stream",
     "text": [
      "         agent attribute specialty    type  rarity\n",
      "19        Anby  Electric      Stun   Slash  A Rank\n",
      "14       Anton  Electric    Attack  Pierce  A Rank\n",
      "15         Ben      Fire   Defense  Strike  A Rank\n",
      "17       Billy  Physical    Attack  Pierce  A Rank\n",
      "13       Corin  Physical    Attack   Slash  A Rank\n",
      "3        Ellen       Ice    Attack   Slash  S Rank\n",
      "4        Grace  Electric   Anomaly  Pierce  S Rank\n",
      "0     Jane Doe  Physical   Anomaly   Slash  S Rank\n",
      "8       Koleda      Fire      Stun  Strike  S Rank\n",
      "12        Lucy      Fire   Support  Strike  A Rank\n",
      "7       Lycaon       Ice      Stun  Strike  S Rank\n",
      "6     Nekomata  Physical    Attack   Slash  S Rank\n",
      "18      Nicole     Ether   Support  Strike  A Rank\n",
      "11       Piper  Physical   Anomaly   Slash  A Rank\n",
      "1       Qingyi  Electric      Stun  Strike  S Rank\n",
      "9         Rina  Electric   Support  Strike  S Rank\n",
      "10        Seth  Electric   Defense   Slash  A Rank\n",
      "5   Soldier 11      Fire    Attack   Slash  S Rank\n",
      "16     Soukaku       Ice   Support   Slash  A Rank\n",
      "2     Zhu Yuan     Ether    Attack  Pierce  S Rank\n"
     ]
    }
   ],
   "source": [
    "# Passo 8 - Ordenar DataFrame pelo nome dos personagens (Agentes)\n",
    "df_ordenado = df.sort_values('agent')\n",
    "print(df_ordenado)"
   ]
  },
  {
   "cell_type": "markdown",
   "id": "4540fbcf",
   "metadata": {},
   "source": [
    "## Adicionando base stats do nivel 60 dos personagens"
   ]
  },
  {
   "cell_type": "code",
   "execution_count": 32,
   "id": "f46b5fc9",
   "metadata": {},
   "outputs": [],
   "source": [
    "# Passo 1 - Realizar uma requisição ao site\n",
    "url = 'https://www.prydwen.gg/zenless/characters-stats/'\n",
    "response = requests.get(url)\n",
    "html_content = response.content"
   ]
  },
  {
   "cell_type": "code",
   "execution_count": 33,
   "id": "e41a0e02",
   "metadata": {},
   "outputs": [],
   "source": [
    "# Passo 2 - Realizar o parser do HTML\n",
    "soup = BeautifulSoup(html_content, 'html.parser')\n",
    "# Isso transforma o HTML bruto em um Objeto BeatifulSoup capaz de realizar o find e o find_all"
   ]
  },
  {
   "cell_type": "code",
   "execution_count": 34,
   "id": "222ce88d",
   "metadata": {},
   "outputs": [
    {
     "name": "stdout",
     "output_type": "stream",
     "text": [
      "[['Nicole', '8146', '623', '649', '5.00%', '50.00%', '0%', '88', '93', '1.56'], ['Ben', '8578', '724', '653', '5.00%', '50.00%', '0%', '95', '90', '1.56'], ['Anby', '7501', '613', '659', '5.00%', '50.00%', '0%', '136', '93', '1.2'], ['Lucy', '8026', '613', '659', '5.00%', '50.00%', '0%', '86', '93', '1.56'], ['Soukaku', '8026', '598', '666', '5.00%', '50.00%', '0%', '86', '96', '1.56'], ['Rina', '8609', '601', '717', '5.00%', '50.00%', '14%', '83', '92', '1.2'], ['Lycaon', '8416', '607', '729', '5.00%', '50.00%', '0%', '137', '90', '1.2'], ['Koleda', '8127', '595', '736', '5.00%', '50.00%', '0%', '134', '96', '1.2'], ['Piper', '6977', '613', '758', '5.00%', '50.00%', '0%', '86', '118', '1.56'], ['Billy', '6907', '607', '787', '19.40%', '50.00%', '0%', '91', '91', '1.2'], ['Anton', '7219', '623', '792', '19.40%', '50.00%', '0%', '95', '90', '1.2'], ['Corin', '6977', '605', '807', '5.00%', '78.80%', '0%', '93', '96', '1.2'], ['Grace', '7483', '601', '826', '5.00%', '50.00%', '0%', '83', '152', '1.2'], ['Soldier 11', '7674', '613', '889', '19.40%', '50.00%', '0%', '93', '93', '1.2'], ['Nekomata', '7560', '588', '911', '19.40%', '50.00%', '0%', '92', '96', '1.2'], ['Zhu Yuan', '7483', '601', '919', '5.00%', '78.80%', '0%', '90', '92', '1.2'], ['Ellen', '7674', '607', '938', '19.40%', '50.00%', '0%', '93', '93', '1.2'], ['Qingyi', '8251', '613', '758', '5.00%', '50.00%', '0%', '136', '94', '1.2'], ['Jane Doe', '7789', '607', '881', '5.00%', '50.00%', '0%', '86', '150', '1.2'], ['Seth', '8701', '746', '643', '5.00%', '50.00%', '0%', '94', '90', '1.56']]\n"
     ]
    }
   ],
   "source": [
    "# Passo 4 - Encontrar a tabela e extrair os dados\n",
    "table = soup.find('table', {'class':'stats-table table table-striped table-bordered'})\n",
    "rows = table.find_all('tr')\n",
    "\n",
    "# Extrair o cabeçalho da tabela\n",
    "header = [th.text.strip() for th in rows[0].find_all('th')]\n",
    "\n",
    "data = []\n",
    "for row in rows:\n",
    "    cols = row.find_all('td')\n",
    "    cols = [col.text.strip() for col in cols]\n",
    "    data.append(cols)\n",
    "\n",
    "# Assumindo que a primeira linha é o cabeçalho\n",
    "base_stats = data[1:]\n",
    "print(base_stats)"
   ]
  },
  {
   "cell_type": "code",
   "execution_count": 35,
   "id": "4f65be75",
   "metadata": {},
   "outputs": [
    {
     "name": "stdout",
     "output_type": "stream",
     "text": [
      "['agent', 'hp', 'def', 'atk', 'crit_rate', 'crit_dmg', 'pen_ratio', 'impact', 'atr_mastery', 'energy']\n"
     ]
    }
   ],
   "source": [
    "# Passo 5 - Ajustar os elementos do header\n",
    "header_lower = [x.lower() for x in header]\n",
    "header_corrigido = [x.replace(' ', '_').replace('.', '') for x in header_lower]\n",
    "header_corrigido = [x.replace('name', 'agent') for x in header_corrigido]\n",
    "print(header_corrigido)"
   ]
  },
  {
   "cell_type": "code",
   "execution_count": 36,
   "id": "61cdec4d",
   "metadata": {},
   "outputs": [
    {
     "name": "stdout",
     "output_type": "stream",
     "text": [
      "         agent    hp  def  atk crit_rate crit_dmg pen_ratio impact  \\\n",
      "2         Anby  7501  613  659     5.00%   50.00%        0%    136   \n",
      "10       Anton  7219  623  792    19.40%   50.00%        0%     95   \n",
      "1          Ben  8578  724  653     5.00%   50.00%        0%     95   \n",
      "9        Billy  6907  607  787    19.40%   50.00%        0%     91   \n",
      "11       Corin  6977  605  807     5.00%   78.80%        0%     93   \n",
      "16       Ellen  7674  607  938    19.40%   50.00%        0%     93   \n",
      "12       Grace  7483  601  826     5.00%   50.00%        0%     83   \n",
      "18    Jane Doe  7789  607  881     5.00%   50.00%        0%     86   \n",
      "7       Koleda  8127  595  736     5.00%   50.00%        0%    134   \n",
      "3         Lucy  8026  613  659     5.00%   50.00%        0%     86   \n",
      "6       Lycaon  8416  607  729     5.00%   50.00%        0%    137   \n",
      "14    Nekomata  7560  588  911    19.40%   50.00%        0%     92   \n",
      "0       Nicole  8146  623  649     5.00%   50.00%        0%     88   \n",
      "8        Piper  6977  613  758     5.00%   50.00%        0%     86   \n",
      "17      Qingyi  8251  613  758     5.00%   50.00%        0%    136   \n",
      "5         Rina  8609  601  717     5.00%   50.00%       14%     83   \n",
      "19        Seth  8701  746  643     5.00%   50.00%        0%     94   \n",
      "13  Soldier 11  7674  613  889    19.40%   50.00%        0%     93   \n",
      "4      Soukaku  8026  598  666     5.00%   50.00%        0%     86   \n",
      "15    Zhu Yuan  7483  601  919     5.00%   78.80%        0%     90   \n",
      "\n",
      "   atr_mastery energy  \n",
      "2           93    1.2  \n",
      "10          90    1.2  \n",
      "1           90   1.56  \n",
      "9           91    1.2  \n",
      "11          96    1.2  \n",
      "16          93    1.2  \n",
      "12         152    1.2  \n",
      "18         150    1.2  \n",
      "7           96    1.2  \n",
      "3           93   1.56  \n",
      "6           90    1.2  \n",
      "14          96    1.2  \n",
      "0           93   1.56  \n",
      "8          118   1.56  \n",
      "17          94    1.2  \n",
      "5           92    1.2  \n",
      "19          90   1.56  \n",
      "13          93    1.2  \n",
      "4           96   1.56  \n",
      "15          92    1.2  \n"
     ]
    }
   ],
   "source": [
    "# Passo 6 - Transformar base_Stats em um DataFrame\n",
    "df2 = pd.DataFrame(base_stats, columns=header_corrigido)\n",
    "df2 = df2.sort_values('agent')\n",
    "print(df2)"
   ]
  },
  {
   "cell_type": "code",
   "execution_count": 37,
   "id": "5c3c07f7",
   "metadata": {},
   "outputs": [
    {
     "name": "stdout",
     "output_type": "stream",
     "text": [
      "         agent attribute specialty    type  rarity    hp  def  atk crit_rate  \\\n",
      "0         Anby  Electric      Stun   Slash  A Rank  7501  613  659     5.00%   \n",
      "1        Anton  Electric    Attack  Pierce  A Rank  7219  623  792    19.40%   \n",
      "2          Ben      Fire   Defense  Strike  A Rank  8578  724  653     5.00%   \n",
      "3        Billy  Physical    Attack  Pierce  A Rank  6907  607  787    19.40%   \n",
      "4        Corin  Physical    Attack   Slash  A Rank  6977  605  807     5.00%   \n",
      "5        Ellen       Ice    Attack   Slash  S Rank  7674  607  938    19.40%   \n",
      "6        Grace  Electric   Anomaly  Pierce  S Rank  7483  601  826     5.00%   \n",
      "7     Jane Doe  Physical   Anomaly   Slash  S Rank  7789  607  881     5.00%   \n",
      "8       Koleda      Fire      Stun  Strike  S Rank  8127  595  736     5.00%   \n",
      "9         Lucy      Fire   Support  Strike  A Rank  8026  613  659     5.00%   \n",
      "10      Lycaon       Ice      Stun  Strike  S Rank  8416  607  729     5.00%   \n",
      "11    Nekomata  Physical    Attack   Slash  S Rank  7560  588  911    19.40%   \n",
      "12      Nicole     Ether   Support  Strike  A Rank  8146  623  649     5.00%   \n",
      "13       Piper  Physical   Anomaly   Slash  A Rank  6977  613  758     5.00%   \n",
      "14      Qingyi  Electric      Stun  Strike  S Rank  8251  613  758     5.00%   \n",
      "15        Rina  Electric   Support  Strike  S Rank  8609  601  717     5.00%   \n",
      "16        Seth  Electric   Defense   Slash  A Rank  8701  746  643     5.00%   \n",
      "17  Soldier 11      Fire    Attack   Slash  S Rank  7674  613  889    19.40%   \n",
      "18     Soukaku       Ice   Support   Slash  A Rank  8026  598  666     5.00%   \n",
      "19    Zhu Yuan     Ether    Attack  Pierce  S Rank  7483  601  919     5.00%   \n",
      "\n",
      "   crit_dmg pen_ratio impact atr_mastery energy  \n",
      "0    50.00%        0%    136          93    1.2  \n",
      "1    50.00%        0%     95          90    1.2  \n",
      "2    50.00%        0%     95          90   1.56  \n",
      "3    50.00%        0%     91          91    1.2  \n",
      "4    78.80%        0%     93          96    1.2  \n",
      "5    50.00%        0%     93          93    1.2  \n",
      "6    50.00%        0%     83         152    1.2  \n",
      "7    50.00%        0%     86         150    1.2  \n",
      "8    50.00%        0%    134          96    1.2  \n",
      "9    50.00%        0%     86          93   1.56  \n",
      "10   50.00%        0%    137          90    1.2  \n",
      "11   50.00%        0%     92          96    1.2  \n",
      "12   50.00%        0%     88          93   1.56  \n",
      "13   50.00%        0%     86         118   1.56  \n",
      "14   50.00%        0%    136          94    1.2  \n",
      "15   50.00%       14%     83          92    1.2  \n",
      "16   50.00%        0%     94          90   1.56  \n",
      "17   50.00%        0%     93          93    1.2  \n",
      "18   50.00%        0%     86          96   1.56  \n",
      "19   78.80%        0%     90          92    1.2  \n"
     ]
    }
   ],
   "source": [
    "# Passo 7 - Juntar DataFrames com base em um elemento comum, Agent\n",
    "df_combined = pd.merge(df_ordenado, df2, on='agent')\n",
    "print(df_combined)"
   ]
  },
  {
   "cell_type": "code",
   "execution_count": 38,
   "id": "9872dc14",
   "metadata": {},
   "outputs": [],
   "source": [
    "# Passo 8 - Transformar DataFrame em CSV\n",
    "df_combined.to_csv('zzz_characters_data.csv', index=False)"
   ]
  }
 ],
 "metadata": {
  "kernelspec": {
   "display_name": "Python 3 (ipykernel)",
   "language": "python",
   "name": "python3"
  },
  "language_info": {
   "codemirror_mode": {
    "name": "ipython",
    "version": 3
   },
   "file_extension": ".py",
   "mimetype": "text/x-python",
   "name": "python",
   "nbconvert_exporter": "python",
   "pygments_lexer": "ipython3",
   "version": "3.8.10"
  }
 },
 "nbformat": 4,
 "nbformat_minor": 5
}
